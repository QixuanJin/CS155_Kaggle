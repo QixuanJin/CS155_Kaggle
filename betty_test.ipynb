{
 "cells": [
  {
   "cell_type": "code",
   "execution_count": 3,
   "metadata": {},
   "outputs": [
    {
     "name": "stderr",
     "output_type": "stream",
     "text": [
      "Using TensorFlow backend.\n"
     ]
    }
   ],
   "source": [
    "import numpy as np\n",
    "import pandas as pd\n",
    "import keras\n",
    "import tensorflow\n",
    "from xgboost import XGBClassifier\n",
    "import sklearn\n",
    "from matplotlib import pyplot"
   ]
  },
  {
   "cell_type": "code",
   "execution_count": 4,
   "metadata": {},
   "outputs": [],
   "source": [
    "training_df = pd.read_csv(\"train_2008.csv\")\n",
    "test_df = pd.read_csv(\"test_2008.csv\")"
   ]
  },
  {
   "cell_type": "code",
   "execution_count": 5,
   "metadata": {},
   "outputs": [
    {
     "data": {
      "text/html": [
       "<div>\n",
       "<style scoped>\n",
       "    .dataframe tbody tr th:only-of-type {\n",
       "        vertical-align: middle;\n",
       "    }\n",
       "\n",
       "    .dataframe tbody tr th {\n",
       "        vertical-align: top;\n",
       "    }\n",
       "\n",
       "    .dataframe thead th {\n",
       "        text-align: right;\n",
       "    }\n",
       "</style>\n",
       "<table border=\"1\" class=\"dataframe\">\n",
       "  <thead>\n",
       "    <tr style=\"text-align: right;\">\n",
       "      <th></th>\n",
       "      <th>id</th>\n",
       "      <th>HRMONTH</th>\n",
       "      <th>HRYEAR4</th>\n",
       "      <th>HURESPLI</th>\n",
       "      <th>HUFINAL</th>\n",
       "      <th>HUSPNISH</th>\n",
       "      <th>HETENURE</th>\n",
       "      <th>HEHOUSUT</th>\n",
       "      <th>HETELHHD</th>\n",
       "      <th>HETELAVL</th>\n",
       "      <th>...</th>\n",
       "      <th>PEDISDRS</th>\n",
       "      <th>PEDISOUT</th>\n",
       "      <th>PRDISFLG</th>\n",
       "      <th>PXDISEAR</th>\n",
       "      <th>PXDISEYE</th>\n",
       "      <th>PXDISREM</th>\n",
       "      <th>PXDISPHY</th>\n",
       "      <th>PXDISDRS</th>\n",
       "      <th>PXDISOUT</th>\n",
       "      <th>target</th>\n",
       "    </tr>\n",
       "  </thead>\n",
       "  <tbody>\n",
       "    <tr>\n",
       "      <th>0</th>\n",
       "      <td>16000</td>\n",
       "      <td>11</td>\n",
       "      <td>2008</td>\n",
       "      <td>1</td>\n",
       "      <td>201</td>\n",
       "      <td>0</td>\n",
       "      <td>1</td>\n",
       "      <td>1</td>\n",
       "      <td>1</td>\n",
       "      <td>-1</td>\n",
       "      <td>...</td>\n",
       "      <td>2</td>\n",
       "      <td>2</td>\n",
       "      <td>2</td>\n",
       "      <td>0</td>\n",
       "      <td>0</td>\n",
       "      <td>0</td>\n",
       "      <td>0</td>\n",
       "      <td>0</td>\n",
       "      <td>0</td>\n",
       "      <td>0</td>\n",
       "    </tr>\n",
       "    <tr>\n",
       "      <th>1</th>\n",
       "      <td>16001</td>\n",
       "      <td>11</td>\n",
       "      <td>2008</td>\n",
       "      <td>1</td>\n",
       "      <td>201</td>\n",
       "      <td>0</td>\n",
       "      <td>2</td>\n",
       "      <td>1</td>\n",
       "      <td>1</td>\n",
       "      <td>-1</td>\n",
       "      <td>...</td>\n",
       "      <td>2</td>\n",
       "      <td>2</td>\n",
       "      <td>2</td>\n",
       "      <td>0</td>\n",
       "      <td>0</td>\n",
       "      <td>0</td>\n",
       "      <td>0</td>\n",
       "      <td>0</td>\n",
       "      <td>0</td>\n",
       "      <td>0</td>\n",
       "    </tr>\n",
       "    <tr>\n",
       "      <th>2</th>\n",
       "      <td>16002</td>\n",
       "      <td>11</td>\n",
       "      <td>2008</td>\n",
       "      <td>1</td>\n",
       "      <td>1</td>\n",
       "      <td>0</td>\n",
       "      <td>1</td>\n",
       "      <td>1</td>\n",
       "      <td>1</td>\n",
       "      <td>-1</td>\n",
       "      <td>...</td>\n",
       "      <td>2</td>\n",
       "      <td>2</td>\n",
       "      <td>2</td>\n",
       "      <td>0</td>\n",
       "      <td>0</td>\n",
       "      <td>0</td>\n",
       "      <td>0</td>\n",
       "      <td>0</td>\n",
       "      <td>0</td>\n",
       "      <td>0</td>\n",
       "    </tr>\n",
       "    <tr>\n",
       "      <th>3</th>\n",
       "      <td>16003</td>\n",
       "      <td>11</td>\n",
       "      <td>2008</td>\n",
       "      <td>2</td>\n",
       "      <td>1</td>\n",
       "      <td>0</td>\n",
       "      <td>1</td>\n",
       "      <td>1</td>\n",
       "      <td>1</td>\n",
       "      <td>-1</td>\n",
       "      <td>...</td>\n",
       "      <td>2</td>\n",
       "      <td>2</td>\n",
       "      <td>2</td>\n",
       "      <td>0</td>\n",
       "      <td>0</td>\n",
       "      <td>0</td>\n",
       "      <td>0</td>\n",
       "      <td>0</td>\n",
       "      <td>0</td>\n",
       "      <td>0</td>\n",
       "    </tr>\n",
       "    <tr>\n",
       "      <th>4</th>\n",
       "      <td>16004</td>\n",
       "      <td>11</td>\n",
       "      <td>2008</td>\n",
       "      <td>2</td>\n",
       "      <td>201</td>\n",
       "      <td>0</td>\n",
       "      <td>1</td>\n",
       "      <td>1</td>\n",
       "      <td>1</td>\n",
       "      <td>-1</td>\n",
       "      <td>...</td>\n",
       "      <td>2</td>\n",
       "      <td>2</td>\n",
       "      <td>2</td>\n",
       "      <td>0</td>\n",
       "      <td>0</td>\n",
       "      <td>0</td>\n",
       "      <td>0</td>\n",
       "      <td>0</td>\n",
       "      <td>0</td>\n",
       "      <td>0</td>\n",
       "    </tr>\n",
       "  </tbody>\n",
       "</table>\n",
       "<p>5 rows × 383 columns</p>\n",
       "</div>"
      ],
      "text/plain": [
       "      id  HRMONTH  HRYEAR4  HURESPLI  HUFINAL  HUSPNISH  HETENURE  HEHOUSUT  \\\n",
       "0  16000       11     2008         1      201         0         1         1   \n",
       "1  16001       11     2008         1      201         0         2         1   \n",
       "2  16002       11     2008         1        1         0         1         1   \n",
       "3  16003       11     2008         2        1         0         1         1   \n",
       "4  16004       11     2008         2      201         0         1         1   \n",
       "\n",
       "   HETELHHD  HETELAVL   ...    PEDISDRS  PEDISOUT  PRDISFLG  PXDISEAR  \\\n",
       "0         1        -1   ...           2         2         2         0   \n",
       "1         1        -1   ...           2         2         2         0   \n",
       "2         1        -1   ...           2         2         2         0   \n",
       "3         1        -1   ...           2         2         2         0   \n",
       "4         1        -1   ...           2         2         2         0   \n",
       "\n",
       "   PXDISEYE  PXDISREM  PXDISPHY  PXDISDRS  PXDISOUT  target  \n",
       "0         0         0         0         0         0       0  \n",
       "1         0         0         0         0         0       0  \n",
       "2         0         0         0         0         0       0  \n",
       "3         0         0         0         0         0       0  \n",
       "4         0         0         0         0         0       0  \n",
       "\n",
       "[5 rows x 383 columns]"
      ]
     },
     "execution_count": 5,
     "metadata": {},
     "output_type": "execute_result"
    }
   ],
   "source": [
    "training_df.head()"
   ]
  },
  {
   "cell_type": "code",
   "execution_count": 13,
   "metadata": {},
   "outputs": [],
   "source": [
    "X_train = training_df.iloc[:, 4:382].values\n",
    "y_train = training_df.iloc[:, 382].values"
   ]
  },
  {
   "cell_type": "code",
   "execution_count": 14,
   "metadata": {},
   "outputs": [
    {
     "data": {
      "text/plain": [
       "XGBClassifier(base_score=0.5, booster='gbtree', colsample_bylevel=1,\n",
       "       colsample_bytree=1, gamma=0, learning_rate=0.1, max_delta_step=0,\n",
       "       max_depth=3, min_child_weight=1, missing=None, n_estimators=100,\n",
       "       n_jobs=1, nthread=None, objective='binary:logistic', random_state=0,\n",
       "       reg_alpha=0, reg_lambda=1, scale_pos_weight=1, seed=None,\n",
       "       silent=True, subsample=1)"
      ]
     },
     "execution_count": 14,
     "metadata": {},
     "output_type": "execute_result"
    }
   ],
   "source": [
    "model = XGBClassifier()\n",
    "model.fit(X_train, y_train)"
   ]
  },
  {
   "cell_type": "code",
   "execution_count": 15,
   "metadata": {},
   "outputs": [
    {
     "name": "stdout",
     "output_type": "stream",
     "text": [
      "[0.         0.         0.02857143 0.01571429 0.00857143 0.\n",
      " 0.00142857 0.04285714 0.         0.         0.         0.01142857\n",
      " 0.         0.00714286 0.00285714 0.00428571 0.00142857 0.01\n",
      " 0.         0.00142857 0.00142857 0.00571429 0.         0.\n",
      " 0.         0.         0.04857143 0.02571429 0.01714286 0.01\n",
      " 0.00285714 0.         0.00571429 0.01285714 0.01142857 0.01857143\n",
      " 0.00142857 0.09714286 0.         0.00428571 0.00142857 0.01428571\n",
      " 0.00285714 0.         0.08428571 0.08142857 0.01       0.\n",
      " 0.00857143 0.00142857 0.00142857 0.         0.         0.01142857\n",
      " 0.         0.01285714 0.01142857 0.00714286 0.00142857 0.00142857\n",
      " 0.03428571 0.01142857 0.00571429 0.00428571 0.         0.\n",
      " 0.         0.         0.         0.         0.         0.00571429\n",
      " 0.         0.         0.         0.00285714 0.00142857 0.\n",
      " 0.         0.         0.         0.00285714 0.         0.\n",
      " 0.00428571 0.         0.         0.00714286 0.         0.\n",
      " 0.         0.         0.         0.00571429 0.         0.00142857\n",
      " 0.         0.         0.         0.         0.         0.\n",
      " 0.         0.         0.         0.         0.         0.\n",
      " 0.         0.         0.         0.         0.         0.\n",
      " 0.         0.         0.         0.00285714 0.         0.\n",
      " 0.         0.         0.         0.         0.         0.\n",
      " 0.         0.         0.         0.         0.         0.\n",
      " 0.         0.         0.         0.         0.         0.\n",
      " 0.         0.         0.         0.         0.         0.\n",
      " 0.         0.         0.         0.         0.         0.\n",
      " 0.         0.         0.         0.         0.         0.\n",
      " 0.         0.         0.         0.         0.         0.\n",
      " 0.         0.00285714 0.         0.         0.         0.\n",
      " 0.         0.         0.00428571 0.         0.         0.00142857\n",
      " 0.00142857 0.         0.         0.         0.         0.\n",
      " 0.00142857 0.         0.00714286 0.00428571 0.         0.\n",
      " 0.         0.00285714 0.         0.         0.         0.\n",
      " 0.         0.01       0.00428571 0.         0.01571429 0.\n",
      " 0.00285714 0.         0.         0.         0.         0.\n",
      " 0.         0.         0.         0.         0.         0.\n",
      " 0.         0.         0.         0.         0.         0.\n",
      " 0.         0.         0.         0.         0.00428571 0.\n",
      " 0.         0.         0.         0.         0.         0.\n",
      " 0.         0.         0.00142857 0.         0.         0.00714286\n",
      " 0.         0.01285714 0.         0.00571429 0.00714286 0.\n",
      " 0.00428571 0.00142857 0.00571429 0.00142857 0.         0.\n",
      " 0.         0.         0.         0.         0.         0.00571429\n",
      " 0.         0.         0.         0.         0.00285714 0.\n",
      " 0.         0.         0.00428571 0.         0.         0.\n",
      " 0.         0.         0.         0.00142857 0.         0.\n",
      " 0.         0.         0.         0.         0.         0.\n",
      " 0.         0.         0.         0.         0.         0.\n",
      " 0.         0.         0.         0.         0.         0.\n",
      " 0.         0.         0.         0.         0.         0.\n",
      " 0.         0.         0.         0.         0.         0.\n",
      " 0.         0.         0.         0.         0.         0.\n",
      " 0.         0.         0.         0.         0.         0.\n",
      " 0.         0.         0.         0.         0.         0.\n",
      " 0.         0.         0.         0.         0.         0.\n",
      " 0.         0.         0.         0.00428571 0.         0.01428571\n",
      " 0.         0.         0.00571429 0.00285714 0.00571429 0.\n",
      " 0.         0.00142857 0.00142857 0.00142857 0.         0.\n",
      " 0.00142857 0.00142857 0.01714286 0.01857143 0.         0.\n",
      " 0.         0.         0.00714286 0.         0.         0.\n",
      " 0.         0.00285714 0.         0.         0.         0.01\n",
      " 0.00285714 0.00285714 0.         0.         0.         0.\n",
      " 0.         0.00714286 0.         0.00428571 0.02       0.00285714\n",
      " 0.         0.         0.         0.         0.         0.        ]\n"
     ]
    }
   ],
   "source": [
    "print(model.feature_importances_)"
   ]
  },
  {
   "cell_type": "code",
   "execution_count": 16,
   "metadata": {},
   "outputs": [
    {
     "data": {
      "text/plain": [
       "378"
      ]
     },
     "execution_count": 16,
     "metadata": {},
     "output_type": "execute_result"
    }
   ],
   "source": [
    "len(model.feature_importances_)"
   ]
  },
  {
   "cell_type": "code",
   "execution_count": null,
   "metadata": {},
   "outputs": [],
   "source": []
  }
 ],
 "metadata": {
  "kernelspec": {
   "display_name": "Python 3",
   "language": "python",
   "name": "python3"
  },
  "language_info": {
   "codemirror_mode": {
    "name": "ipython",
    "version": 3
   },
   "file_extension": ".py",
   "mimetype": "text/x-python",
   "name": "python",
   "nbconvert_exporter": "python",
   "pygments_lexer": "ipython3",
   "version": "3.6.6"
  }
 },
 "nbformat": 4,
 "nbformat_minor": 2
}
