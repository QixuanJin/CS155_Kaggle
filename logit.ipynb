{
 "cells": [
  {
   "cell_type": "code",
   "execution_count": 1,
   "metadata": {},
   "outputs": [],
   "source": [
    "import numpy as np\n",
    "import matplotlib.pyplot as plt\n",
    "from sklearn.model_selection import train_test_split\n",
    "from sklearn import preprocessing\n",
    "from sklearn.linear_model import LogisticRegression\n",
    "from sklearn.metrics import roc_auc_score"
   ]
  },
  {
   "cell_type": "code",
   "execution_count": 2,
   "metadata": {},
   "outputs": [],
   "source": [
    "data = np.loadtxt('train_2008.csv', skiprows=1, delimiter=',')"
   ]
  },
  {
   "cell_type": "code",
   "execution_count": 3,
   "metadata": {},
   "outputs": [],
   "source": [
    "X = data[:, 3:-1]\n",
    "y = data[:, -1]\n",
    "X_train, X_test, y_train, y_test = train_test_split(X, y, test_size=0.2)"
   ]
  },
  {
   "cell_type": "code",
   "execution_count": 4,
   "metadata": {},
   "outputs": [],
   "source": [
    "scaler = preprocessing.StandardScaler().fit(X_train)\n",
    "X_train = scaler.transform(X_train)\n",
    "X_test = scaler.transform(X_test)"
   ]
  },
  {
   "cell_type": "code",
   "execution_count": 5,
   "metadata": {},
   "outputs": [
    {
     "name": "stdout",
     "output_type": "stream",
     "text": [
      "l2 regularization\n",
      "C = 0.010000\n",
      "Training AUC = 0.778304\n",
      "Test AUC = 0.761224\n",
      "C = 0.100000\n",
      "Training AUC = 0.779691\n",
      "Test AUC = 0.761925\n",
      "C = 1.000000\n",
      "Training AUC = 0.780145\n",
      "Test AUC = 0.762166\n",
      "C = 10.000000\n",
      "Training AUC = 0.780198\n",
      "Test AUC = 0.762189\n",
      "C = 100.000000\n",
      "Training AUC = 0.780203\n",
      "Test AUC = 0.762190\n"
     ]
    },
    {
     "data": {
      "image/png": "[encoded data removed]",
      "text/plain": [
       "<Figure size 432x288 with 1 Axes>"
      ]
     },
     "metadata": {
      "needs_background": "light"
     },
     "output_type": "display_data"
    }
   ],
   "source": [
    "train_AUC, test_AUC = [], []\n",
    "print('l2 regularization')\n",
    "Cs = [.01, .1, 1, 10, 100]\n",
    "for C in Cs:\n",
    "    print('C = %f' % C)\n",
    "    clf = LogisticRegression(solver='saga', max_iter=10000, C=C).fit(X_train, y_train)\n",
    "    train_AUC.append(roc_auc_score(y_train, clf.predict_proba(X_train)[:, 1]))\n",
    "    test_AUC.append(roc_auc_score(y_test, clf.predict_proba(X_test)[:, 1]))\n",
    "    print('Training AUC = %f' % train_AUC[-1])\n",
    "    print('Test AUC = %f' % test_AUC[-1])\n",
    "plt.plot(Cs, train_AUC)\n",
    "plt.plot(Cs, test_AUC)\n",
    "plt.legend(['train_AUC', 'test_AUC'])\n",
    "plt.xscale('log')\n",
    "plt.show()"
   ]
  },
  {
   "cell_type": "code",
   "execution_count": 6,
   "metadata": {},
   "outputs": [
    {
     "name": "stdout",
     "output_type": "stream",
     "text": [
      "l1 regularization\n",
      "C = 0.010000\n",
      "Training AUC = 0.773257\n",
      "Test AUC = 0.761918\n",
      "C = 0.100000\n",
      "Training AUC = 0.778642\n",
      "Test AUC = 0.762342\n",
      "C = 1.000000\n",
      "Training AUC = 0.780222\n",
      "Test AUC = 0.762411\n",
      "C = 10.000000\n",
      "Training AUC = 0.780321\n",
      "Test AUC = 0.762264\n",
      "C = 100.000000\n",
      "Training AUC = 0.780327\n",
      "Test AUC = 0.762241\n"
     ]
    },
    {
     "data": {
      "image/png": "[encoded data removed]",
      "text/plain": [
       "<Figure size 432x288 with 1 Axes>"
      ]
     },
     "metadata": {
      "needs_background": "light"
     },
     "output_type": "display_data"
    }
   ],
   "source": [
    "train_AUC, test_AUC = [], []\n",
    "print('l1 regularization')\n",
    "for C in [.01, .1, 1, 10, 100]:\n",
    "    print('C = %f' % C)\n",
    "    clf = LogisticRegression(solver='saga', max_iter=10000, C=C, penalty='l1').fit(X_train, y_train)\n",
    "    train_AUC.append(roc_auc_score(y_train, clf.predict_proba(X_train)[:, 1]))\n",
    "    test_AUC.append(roc_auc_score(y_test, clf.predict_proba(X_test)[:, 1]))\n",
    "    print('Training AUC = %f' % train_AUC[-1])\n",
    "    print('Test AUC = %f' % test_AUC[-1])\n",
    "plt.plot(Cs, train_AUC)\n",
    "plt.plot(Cs, test_AUC)\n",
    "plt.legend(['train_AUC', 'test_AUC'])\n",
    "plt.xscale('log')\n",
    "plt.show()"
   ]
  },
  {
   "cell_type": "code",
   "execution_count": 7,
   "metadata": {},
   "outputs": [
    {
     "name": "stdout",
     "output_type": "stream",
     "text": [
      "(64667, 379)\n",
      "(16000, 379)\n",
      "(82820, 379)\n"
     ]
    }
   ],
   "source": [
    "test_2008 = np.loadtxt('test_2008.csv', skiprows=1, delimiter=',')\n",
    "test_2012 = np.loadtxt('test_2012.csv', skiprows=1, delimiter=',')\n",
    "X_2008 = test_2008[:, 3:]\n",
    "X_2012 = test_2012[:, 3:]\n",
    "print(X.shape)\n",
    "print(X_2008.shape)\n",
    "print(X_2012.shape)"
   ]
  },
  {
   "cell_type": "code",
   "execution_count": 8,
   "metadata": {},
   "outputs": [],
   "source": [
    "scaler = preprocessing.StandardScaler().fit(X)\n",
    "X = scaler.transform(X)\n",
    "X_2008 = scaler.transform(X_2008)\n",
    "X_2012 = scaler.transform(X_2012)"
   ]
  },
  {
   "cell_type": "code",
   "execution_count": 9,
   "metadata": {},
   "outputs": [],
   "source": [
    "clf = LogisticRegression(solver='saga', max_iter=10000, C=10, penalty='l1').fit(X, y)"
   ]
  },
  {
   "cell_type": "code",
   "execution_count": 14,
   "metadata": {},
   "outputs": [],
   "source": [
    "pred_2008 = np.hstack((np.reshape(test_2008[:, 0], (test_2008.shape[0], 1)), np.reshape(clf.predict_proba(X_2008)[:, 1], (test_2008.shape[0], 1))))\n",
    "pred_2012 = np.hstack((np.reshape(test_2012[:, 0], (test_2012.shape[0], 1)), np.reshape(clf.predict_proba(X_2012)[:, 1], (test_2012.shape[0], 1))))\n",
    "np.savetxt(\"predictions_logit2008.csv\", pred_2008, fmt = '%d,%21.20f', delimiter=',', header = 'id,target', comments='')\n",
    "np.savetxt(\"predictions_logit2012.csv\", pred_2012, fmt = '%d,%21.20f', delimiter=',', header = 'id,target', comments='')"
   ]
  },
  {
   "cell_type": "code",
   "execution_count": 99,
   "metadata": {},
   "outputs": [
    {
     "name": "stdout",
     "output_type": "stream",
     "text": [
      "[204 105 191 300 192 183 202  40 349  54]\n",
      "[-0.55858015 -0.58128802  0.65669932 -0.75700513  0.82828775 -0.85605876\n",
      " -1.38186336 -1.42784984  1.43286891  1.52887875]\n"
     ]
    }
   ],
   "source": [
    "top10 = np.argsort(abs(clf.coef_))[0, -10:]\n",
    "print(top10)\n",
    "print(clf.coef_[0, top10])"
   ]
  },
  {
   "cell_type": "code",
   "execution_count": 100,
   "metadata": {},
   "outputs": [
    {
     "name": "stdout",
     "output_type": "stream",
     "text": [
      "['PRMJOCC1', 'PUHRCK12', 'PRAGNA', 'PXDW4WK', 'PRCOW1', 'PEIO1COW', 'PRMJIND1', 'PEMARITL', 'PRIMIND1', 'PRMARSTA']\n"
     ]
    }
   ],
   "source": [
    "with open('train_2008.csv') as f:\n",
    "    l = f.readline().split(',')\n",
    "print([l[ind + 3] for ind in top10])"
   ]
  }
 ],
 "metadata": {
  "kernelspec": {
   "display_name": "Python 3",
   "language": "python",
   "name": "python3"
  },
  "language_info": {
   "codemirror_mode": {
    "name": "ipython",
    "version": 3
   },
   "file_extension": ".py",
   "mimetype": "text/x-python",
   "name": "python",
   "nbconvert_exporter": "python",
   "pygments_lexer": "ipython3",
   "version": "3.6.8"
  }
 },
 "nbformat": 4,
 "nbformat_minor": 2
}
